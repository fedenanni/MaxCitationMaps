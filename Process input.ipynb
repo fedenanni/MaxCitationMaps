{
 "cells": [
  {
   "cell_type": "code",
   "execution_count": 1,
   "metadata": {},
   "outputs": [],
   "source": [
    "import pandas as pd\n",
    "import os\n",
    "\n",
    "xl = pd.ExcelFile('Citations codes max_20May2020.xlsx')\n",
    "\n",
    "sheets = xl.sheet_names  # see all sheet names\n",
    "coords = {}\n",
    "for sheet_name in sheets:\n",
    "        try:\n",
    "            file = xl.parse(sheet_name) \n",
    "            for idx, row in file.iterrows():\n",
    "                coords[row[0]] = [row[-3],row[-2]]\n",
    "        except Exception as e:\n",
    "            continue"
   ]
  },
  {
   "cell_type": "code",
   "execution_count": 2,
   "metadata": {},
   "outputs": [
    {
     "name": "stdout",
     "output_type": "stream",
     "text": [
      "['AFGHANISTAN', 'ALGERIA', 'ARGENTINA', 'ARMENIA', 'AUSTRALIA', 'AUSTRIA', 'AZERBAIJAN', 'BAHRAIN', 'BANGLADESH', 'BELARUS', 'BELGIUM', 'BENIN', 'BOSNIA HERCEG', 'BOTSWANA', 'BRAZIL', 'BRUNEI', 'BULGARIA', 'CAMEROON', 'CANADA', 'CHILE', 'COLOMBIA', 'COSTA RICA', 'COTE IVOIRE', 'CROATIA', 'CUBA', 'CYPRUS', 'CZECH REPUBLIC', 'DENMARK', 'DOMINICAN REP', 'ECUADOR', 'EGYPT', 'EL SALVADOR', 'ENGLAND', 'ESTONIA', 'ETHIOPIA', 'FINLAND', 'FRANCE', 'GEORGIA', 'GERMANY', 'GHANA', 'GREECE', 'GUATEMALA', 'HUNGARY', 'ICELAND', 'INDIA', 'INDONESIA', 'IRAN', 'IRAQ', 'IRELAND', 'ISRAEL', 'ITALY', 'JAMAICA', 'JAPAN', 'JORDAN', 'KAZAKHSTAN', 'KENYA', 'KUWAIT', 'KYRGYZSTAN', 'LATVIA', 'LEBANON', 'LIBYA', 'LITHUANIA', 'LUXEMBOURG', 'MACEDONIA', 'MALAWI', 'MALAYSIA', 'MALTA', 'MAURITIUS', 'MEXICO', 'MOLDOVA', 'MONGOLIA', 'MONTENEGRO', 'MOROCCO', 'NEPAL', 'NETHERLANDS', 'NEW CALEDONIA', 'NEW ZEALAND', 'NIGERIA', 'NORTH IRELAND', 'NORTH KOREA', 'NORTH MACEDONIA', 'NORWAY', 'OMAN', 'PAKISTAN', 'PALESTINE', 'PANAMA', 'PARAGUAY', 'PEOPLES R CHINA', 'PERU', 'PHILIPPINES', 'POLAND', 'PORTUGAL', 'QATAR', 'REP CONGO', 'ROMANIA', 'RUSSIA', 'SAUDI ARABIA', 'SCOTLAND', 'SENEGAL', 'SERBIA', 'SINGAPORE', 'SLOVAKIA', 'SLOVENIA', 'SOUTH AFRICA', 'SOUTH KOREA', 'SOUTH SUDAN', 'SPAIN', 'SRI LANKA', 'SUDAN', 'SWEDEN', 'SWITZERLAND', 'TAIWAN', 'TANZANIA', 'THAILAND', 'TUNISIA', 'TURKEY', 'U ARAB EMIRATES', 'UKRAINE', 'URUGUAY', 'USA', 'UZBEKISTAN', 'VENEZUELA', 'VIETNAM', 'WALES', 'YEMEN', 'ZAMBIA']\n"
     ]
    }
   ],
   "source": [
    "\n",
    "# inside input add a new folder with the new inputs and change here the \"month\" variable\n",
    "folder = \"Input/\"\n",
    "month = \"112021/\"\n",
    "\n",
    "countries = set()\n",
    "\n",
    "for filename in [x for x in os.listdir(folder+month) if \".txt\" in x]:\n",
    "    doc = open(folder+month+filename,\"r\").readlines()\n",
    "    for line in doc[1:]:\n",
    "        line = line.split(\"\\t\")\n",
    "        if len(line)==3:\n",
    "            country = line[0]\n",
    "            countries.add(country)\n",
    "countries = list(countries)\n",
    "countries.sort()\n",
    "print (countries)"
   ]
  },
  {
   "cell_type": "code",
   "execution_count": 3,
   "metadata": {},
   "outputs": [],
   "source": [
    "coords[\"KUWAIT\"] = [\"29.3759\", \"47.9774\"]\n",
    "coords[\"BAHRAIN\"] = [\"26.2285\", \"50.5860\"]\n",
    "coords[\"MALAWI\"] = [\"13.9626\", \"33.7741\"]\n",
    "coords[\"PALESTINE\"] = [\"31.7683\", \"35.2137\"]\n",
    "coords[\"TANZANIA\"] = [\"6.1630\", \"35.7516\"]\n",
    "coords[\"YEMEN\"] = [\"15.369445\", \"44.191006\"]\n",
    "coords[\"EL SALVADOR\"] = [\"15.369445\", \"44.191006\"]\n",
    "coords[\"P R CHINA\"] = [\"39.9042\", \"116.4074\"]\n",
    "coords[\"AFGHANISTAN\"] = [\"33.9391\", \"67.7100\"]\n",
    "coords[\"BOSNIA HERCEG\"] = [\"43.9159\", \"17.6791\"]\n",
    "coords[\"BRUNEI\"] = [\"4.5353\", \"114.7277\"]\n",
    "coords[\"DOMINICAN REP\"] = [\"18.7357\", \"70.1627\"]\n",
    "coords[\"GEORGIA\"] = [\"42.3154\", \"43.3569\"]\n",
    "coords[\"GUATEMALA\"] = [\"15.7835\", \"90.2308\"]\n",
    "coords[\"JAMAICA\"] = [\"18.1096\", \"77.2975\"]\n",
    "coords[\"KYRGYZSTAN\"] = [\"41.2044\", \"74.7661\"]\n",
    "coords[\"LIBYA\"] = [\"26.3351\", \"17.2283\"]\n",
    "coords[\"MACEDONIA\"] = [\"41.6086\", \"21.7453\"]\n",
    "coords[\"NORTH MACEDONIA\"] = [\"41.6086\", \"21.7453\"]\n",
    "coords[\"MONGOLIA\"] = [\"46.8625\", \"103.8467\"]\n",
    "coords[\"MONTENEGRO\"] = [\"42.7087\", \"19.3744\"]\n",
    "coords[\"NEW CALEDONIA\"] = [\"20.9043\", \"165.6180\"]\n",
    "coords[\"PANAMA\"] = [\"8.5380\", \"80.7821\"]\n",
    "coords[\"SENEGAL\"] = [\"14.4974\", \"14.4524\"]\n",
    "coords[\"SOUTH SUDAN\"] = [\"6.8770\", \"31.3070\"]\n"
   ]
  },
  {
   "cell_type": "code",
   "execution_count": 4,
   "metadata": {},
   "outputs": [
    {
     "name": "stdout",
     "output_type": "stream",
     "text": [
      "set(['NETHERLANDS', 'PORTUGAL', 'LITHUANIA', 'CROATIA', 'GREECE', 'ROMANIA', 'CZECH REPUBLIC', 'POLAND', 'SWEDEN', 'LUXEMBOURG', 'AUSTRIA', 'GERMANY', 'HUNGARY', 'SPAIN', 'ITALY', 'DENMARK', 'FINLAND', 'MALTA', 'SLOVENIA', 'IRELAND', 'FRANCE', 'LATVIA', 'SLOVAKIA', 'BELGIUM', 'BULGARIA'])\n"
     ]
    }
   ],
   "source": [
    "eu = open(\"EU_countries.csv\",\"r\").read().strip().split(\"\\n\")\n",
    "eu = {x.split(\",\")[0] for x in eu}\n",
    "print (eu)"
   ]
  },
  {
   "cell_type": "code",
   "execution_count": 5,
   "metadata": {},
   "outputs": [],
   "source": [
    "def write_file(eu_version=True):\n",
    "\n",
    "    if eu_version==True:\n",
    "        output = \"EUOutput/\"\n",
    "    else:\n",
    "        output = \"Output/\"\n",
    "        \n",
    "    if not os.path.exists(output+month):\n",
    "        os.mkdir(output+month)\n",
    "    \n",
    "    final_count = {}\n",
    "\n",
    "    for filename in [x for x in os.listdir(folder+month) if \".txt\" in x]:\n",
    "        doc = open(folder+month+filename,\"r\").read().strip().split(\"\\n\")\n",
    "        doc_countries = {x:[0,0] for x in countries}\n",
    "        out = open(output+month+filename,\"w\")\n",
    "        out.write(\"Countries/Regions\\tlat\\tlong\\trecords\\n\")\n",
    "        for line in doc[1:]:\n",
    "            line = line.split(\"\\t\")\n",
    "            if len(line)==3:\n",
    "                country = line[0]\n",
    "                doc_countries[country] = [line[1],line[2]]\n",
    "\n",
    "        for c in countries:\n",
    "            try:\n",
    "                coord = coords[c]\n",
    "            except Exception:\n",
    "                print (\"Missing Country Coordinates:\",c)\n",
    "            if eu_version==True:\n",
    "                if c in eu:\n",
    "                    line = c +\"\\t\"+str(coord[0])+\"\\t\"+str(coord[1]) +\"\\t\"+ str(doc_countries[c][0])+ \"\\n\"\n",
    "                    if c in final_count:\n",
    "                        final_count[c]+= int(doc_countries[c][0])\n",
    "                    else:\n",
    "                        final_count[c]= int(doc_countries[c][0])\n",
    "                    out.write(line)\n",
    "\n",
    "            else:\n",
    "                    line = c +\"\\t\"+str(coord[0])+\"\\t\"+str(coord[1]) +\"\\t\"+ str(doc_countries[c][0])+ \"\\n\"\n",
    "                    if c in final_count:\n",
    "                        final_count[c]+= int(doc_countries[c][0])\n",
    "                    else:\n",
    "                        final_count[c]= int(doc_countries[c][0])\n",
    "\n",
    "                    out.write(line)\n",
    "\n",
    "        out.close()\n",
    "    \n",
    "    out = open(output+month+\"all_sum.txt\",\"w\")\n",
    "    out.write(\"Countries/Regions\\tlat\\tlong\\trecords\\n\")\n",
    "\n",
    "    for c in countries:\n",
    "        if eu_version == True:\n",
    "            if c in eu:\n",
    "                coord = coords[c]\n",
    "                line = c +\"\\t\"+str(coord[0])+\"\\t\"+str(coord[1]) +\"\\t\"+ str(final_count[c])+ \"\\n\"\n",
    "                out.write(line)\n",
    "        else:\n",
    "            coord = coords[c]\n",
    "            line = c +\"\\t\"+str(coord[0])+\"\\t\"+str(coord[1]) +\"\\t\"+ str(final_count[c])+ \"\\n\"\n",
    "            out.write(line)\n",
    "\n",
    "    out.close()\n",
    "    \n",
    "write_file(eu_version=True)\n",
    "write_file(eu_version=False)"
   ]
  },
  {
   "cell_type": "code",
   "execution_count": null,
   "metadata": {},
   "outputs": [],
   "source": []
  }
 ],
 "metadata": {
  "kernelspec": {
   "display_name": "Python 2",
   "language": "python",
   "name": "python2"
  },
  "language_info": {
   "codemirror_mode": {
    "name": "ipython",
    "version": 2
   },
   "file_extension": ".py",
   "mimetype": "text/x-python",
   "name": "python",
   "nbconvert_exporter": "python",
   "pygments_lexer": "ipython2",
   "version": "2.7.17"
  }
 },
 "nbformat": 4,
 "nbformat_minor": 2
}
